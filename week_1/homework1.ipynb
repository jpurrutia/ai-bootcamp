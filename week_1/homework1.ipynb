{
 "cells": [
  {
   "cell_type": "code",
   "execution_count": 1,
   "id": "d5c95222",
   "metadata": {},
   "outputs": [],
   "source": [
    "import io, zipfile, requests\n",
    "from dataclasses import dataclass"
   ]
  },
  {
   "cell_type": "code",
   "execution_count": null,
   "id": "f06491cb",
   "metadata": {},
   "outputs": [],
   "source": [
    "@dataclass\n",
    "class RawRepositoryFile:\n",
    "    filename: str\n",
    "    content: str\n",
    "\n",
    "\n",
    "def read_github_repo(owner: str, repo: str, folder: str = \"\", exts=(\"md\",), branch=\"main\"):\n",
    "    \"\"\" Download and extract selected files from a GithHub repository. \"\"\"\n",
    "    url = f\"https://codeload.githjub.com/{owner}/{repo}/zip/refs/heads/{branch}\"\n",
    "    resp = requests.get(url)\n",
    "    resp.raise_for_status()\n",
    "\n",
    "    zf = zipfile.ZipFile(io.BytesIO(resp.content))\n",
    "    files = []\n",
    "\n",
    "    for info in zf.infolist():\n",
    "        path_parts = info.filename.split(\"/\", 1)\n",
    "        if len(path_parts) < 2:\n",
    "            continue\n",
    "        path = path_parts[1] # strip top-level folder\n",
    "\n",
    "        if folder and not path.startswith(folder):\n",
    "            continue\n",
    "        if not any(path.endswith(f\".{ext}\") for ext in exts):\n",
    "            continue\n",
    "\n",
    "        with zf.open(info) as f:\n",
    "            content = f.read().decode(\"utf-8\", errors=\"ignore\").strip()\n",
    "            files.append(RawRepositoryFile(path, content))\n",
    "            \n",
    "    return files"
   ]
  }
 ],
 "metadata": {
  "kernelspec": {
   "display_name": "ai-bootcamp (3.12.1)",
   "language": "python",
   "name": "python3"
  },
  "language_info": {
   "codemirror_mode": {
    "name": "ipython",
    "version": 3
   },
   "file_extension": ".py",
   "mimetype": "text/x-python",
   "name": "python",
   "nbconvert_exporter": "python",
   "pygments_lexer": "ipython3",
   "version": "3.12.1"
  }
 },
 "nbformat": 4,
 "nbformat_minor": 5
}
