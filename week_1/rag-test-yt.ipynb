{
 "cells": [
  {
   "cell_type": "code",
   "execution_count": 2,
   "id": "df17f18d",
   "metadata": {},
   "outputs": [
    {
     "name": "stdout",
     "output_type": "stream",
     "text": [
      "\u001b[2K\u001b[37m⠼\u001b[0m \u001b[2mjupyter-server-terminals==0.5.3                                               \u001b[0m\u001b[2mResolved \u001b[1m156 packages\u001b[0m \u001b[2min 4.52s\u001b[0m\u001b[0m\n",
      "\u001b[2K\u001b[37m⠙\u001b[0m \u001b[2mPreparing packages...\u001b[0m (0/1)                                                   \u001b[37m⠋\u001b[0m \u001b[2mPreparing packages...\u001b[0m (0/0)                                                   \n",
      "\u001b[2K\u001b[1A\u001b[37m⠙\u001b[0m \u001b[2mPreparing packages...\u001b[0m (0/1)----------------\u001b[0m\u001b[0m     0 B/473.68 KiB        \u001b[1A\n",
      "\u001b[2K\u001b[1A\u001b[37m⠙\u001b[0m \u001b[2mPreparing packages...\u001b[0m (0/1)----------------\u001b[0m\u001b[0m 2.68 KiB/473.68 KiB       \u001b[1A\n",
      "\u001b[2K\u001b[1A\u001b[37m⠙\u001b[0m \u001b[2mPreparing packages...\u001b[0m (0/1)----------------\u001b[0m\u001b[0m 18.68 KiB/473.68 KiB      \u001b[1A\n",
      "\u001b[2K\u001b[1A\u001b[37m⠙\u001b[0m \u001b[2mPreparing packages...\u001b[0m (0/1)----------------\u001b[0m\u001b[0m 34.68 KiB/473.68 KiB      \u001b[1A\n",
      "\u001b[2K\u001b[1A\u001b[37m⠙\u001b[0m \u001b[2mPreparing packages...\u001b[0m (0/1)----------------\u001b[0m\u001b[0m 50.68 KiB/473.68 KiB      \u001b[1A\n",
      "\u001b[2K\u001b[1A\u001b[37m⠙\u001b[0m \u001b[2mPreparing packages...\u001b[0m (0/1)----------------\u001b[0m\u001b[0m 62.02 KiB/473.68 KiB      \u001b[1A\n",
      "\u001b[2K\u001b[1A\u001b[37m⠙\u001b[0m \u001b[2mPreparing packages...\u001b[0m (0/1)----------------\u001b[0m\u001b[0m 78.02 KiB/473.68 KiB      \u001b[1A\n",
      "\u001b[2K\u001b[1A\u001b[37m⠙\u001b[0m \u001b[2mPreparing packages...\u001b[0m (0/1)----------------\u001b[0m\u001b[0m 94.02 KiB/473.68 KiB      \u001b[1A\n",
      "\u001b[2K\u001b[1A\u001b[37m⠙\u001b[0m \u001b[2mPreparing packages...\u001b[0m (0/1)----------------\u001b[0m\u001b[0m 110.02 KiB/473.68 KiB     \u001b[1A\n",
      "\u001b[2K\u001b[1A\u001b[37m⠙\u001b[0m \u001b[2mPreparing packages...\u001b[0m (0/1)----------------\u001b[0m\u001b[0m 125.05 KiB/473.68 KiB     \u001b[1A\n",
      "\u001b[2K\u001b[1A\u001b[37m⠙\u001b[0m \u001b[2mPreparing packages...\u001b[0m (0/1)----------------\u001b[0m\u001b[0m 141.05 KiB/473.68 KiB     \u001b[1A\n",
      "\u001b[2K\u001b[1A\u001b[37m⠙\u001b[0m \u001b[2mPreparing packages...\u001b[0m (0/1)----------------\u001b[0m\u001b[0m 157.05 KiB/473.68 KiB     \u001b[1A\n",
      "\u001b[2K\u001b[1A\u001b[37m⠙\u001b[0m \u001b[2mPreparing packages...\u001b[0m (0/1)----------------\u001b[0m\u001b[0m 173.05 KiB/473.68 KiB     \u001b[1A\n",
      "\u001b[2K\u001b[1A\u001b[37m⠙\u001b[0m \u001b[2mPreparing packages...\u001b[0m (0/1)----------------\u001b[0m\u001b[0m 189.05 KiB/473.68 KiB     \u001b[1A\n",
      "\u001b[2K\u001b[1A\u001b[37m⠙\u001b[0m \u001b[2mPreparing packages...\u001b[0m (0/1)----------------\u001b[0m\u001b[0m 205.05 KiB/473.68 KiB     \u001b[1A\n",
      "\u001b[2K\u001b[1A\u001b[37m⠙\u001b[0m \u001b[2mPreparing packages...\u001b[0m (0/1)----------------\u001b[0m\u001b[0m 221.05 KiB/473.68 KiB     \u001b[1A\n",
      "\u001b[2K\u001b[1A\u001b[37m⠙\u001b[0m \u001b[2mPreparing packages...\u001b[0m (0/1)2m--------------\u001b[0m\u001b[0m 237.05 KiB/473.68 KiB     \u001b[1A\n",
      "\u001b[2K\u001b[1A\u001b[37m⠙\u001b[0m \u001b[2mPreparing packages...\u001b[0m (0/1)[2m-------------\u001b[0m\u001b[0m 253.05 KiB/473.68 KiB     \u001b[1A\n",
      "\u001b[2K\u001b[1A\u001b[37m⠙\u001b[0m \u001b[2mPreparing packages...\u001b[0m (0/1)\u001b[2m------------\u001b[0m\u001b[0m 269.05 KiB/473.68 KiB     \u001b[1A\n",
      "\u001b[2K\u001b[2mPrepared \u001b[1m1 package\u001b[0m \u001b[2min 189ms\u001b[0m\u001b[0m                                                  \u001b[1A\n",
      "\u001b[2K░░░░░░░░░░░░░░░░░░░░ [0/1] \u001b[2mInstalling wheels...                                 \u001b[0m\u001b[1m\u001b[33mwarning\u001b[39m\u001b[0m\u001b[1m:\u001b[0m \u001b[1mFailed to hardlink files; falling back to full copy. This may lead to degraded performance.\n",
      "         If the cache and target directories are on different filesystems, hardlinking may not be supported.\n",
      "         If this is intentional, set `export UV_LINK_MODE=copy` or use `--link-mode=copy` to suppress this warning.\u001b[0m\n",
      "\u001b[2K\u001b[2mInstalled \u001b[1m1 package\u001b[0m \u001b[2min 69ms\u001b[0m\u001b[0mpi==1.2.2                        \u001b[0m\n",
      " \u001b[32m+\u001b[39m \u001b[1myoutube-transcript-api\u001b[0m\u001b[2m==1.2.2\u001b[0m\n"
     ]
    }
   ],
   "source": [
    "!uv add youtube-transcript-api"
   ]
  },
  {
   "cell_type": "code",
   "execution_count": 23,
   "id": "125235ea",
   "metadata": {},
   "outputs": [],
   "source": [
    "import re\n",
    "from openai import OpenAI\n",
    "import requests\n",
    "import json\n",
    "from minsearch import Index, VectorSearch\n",
    "import pickle \n",
    "from youtube_transcript_api import YouTubeTranscriptApi\n",
    "from typing import Any, Dict, List, Optional\n",
    "\n",
    "client = OpenAI()"
   ]
  },
  {
   "cell_type": "code",
   "execution_count": 6,
   "id": "1e3aefbd",
   "metadata": {},
   "outputs": [],
   "source": [
    "#!wget https://github.com/alexeygrigorev/ai-bootcamp-codespace/raw/refs/heads/main/week1/ph1PxZIkz1o.bin\n"
   ]
  },
  {
   "cell_type": "code",
   "execution_count": null,
   "id": "83000763",
   "metadata": {},
   "outputs": [],
   "source": [
    "\n",
    "\n",
    "video_id = 'ph1PxZIkz1o'\n",
    "\n",
    "#ytt_api = YouTubeTranscriptApi()\n",
    "#transcript = ytt_api.fetch(video_id)\n",
    "\n",
    "with open(f'{video_id}.bin', 'rb') as f_in:\n",
    "    transcript = pickle.load(f_in)\n",
    "\n"
   ]
  },
  {
   "cell_type": "code",
   "execution_count": 10,
   "id": "5211824b",
   "metadata": {},
   "outputs": [],
   "source": [
    "def format_timestamp(seconds: float) -> str:\n",
    "    \"\"\" Convert seconds to H:MM:SS if > 1 hour else MM:SS \"\"\"\n",
    "    total_seconds =  int(seconds)\n",
    "    hours, remainder = divmod(total_seconds, 3600)\n",
    "    minutes, secs = divmod(remainder, 60)\n",
    "\n",
    "    if hours > 0:\n",
    "        return f\"{hours}:{minutes:02}:{secs:02}\"\n",
    "    else:\n",
    "        return f\"{minutes}:{secs:02}\"\n",
    "    \n",
    "def make_subtitles(transcript) -> str:\n",
    "    lines = []\n",
    "\n",
    "    for entry in transcript:\n",
    "        ts = format_timestamp(entry.start)\n",
    "        text = entry.text.replace('\\n', ' ')\n",
    "        lines.append(ts + ' ' + text)\n",
    "    \n",
    "    return '\\n'.join(lines)\n",
    "\n",
    "subtitles = make_subtitles(transcript)"
   ]
  },
  {
   "cell_type": "code",
   "execution_count": 13,
   "id": "54122633",
   "metadata": {},
   "outputs": [
    {
     "name": "stdout",
     "output_type": "stream",
     "text": [
      "0:00 So hi everyone. Uh today we are going to\n",
      "0:02 talk about our upcoming course. The\n",
      "0:05 upcoming course is called machine\n",
      "0:06 learning zoom camp. And um this is\n",
      "0:10 already I put the link in the\n",
      "0:12 description. So if you're watching um\n",
      "0:14 this video in recording or you're\n",
      "0:17 watching it live, you go here in the\n",
      "0:19 description after under this video and\n",
      "0:21 then you see a link course. uh click on\n",
      "0:25 that link and this bring you will bring\n",
      "0:27 you to\n",
      "0:29 this website this GitHub\n"
     ]
    }
   ],
   "source": [
    "print(subtitles[:500])"
   ]
  },
  {
   "cell_type": "code",
   "execution_count": 14,
   "id": "093040ee",
   "metadata": {},
   "outputs": [],
   "source": [
    "instructions = \"\"\"\n",
    "Summarize the transcript and describe the main purpose of the video\n",
    "and the main ideas. \n",
    "\n",
    "Also output chapters with time. Use usual sentence case, not Title Case for the chapter.\n",
    "\n",
    "Output format: \n",
    "\n",
    "<OUTPUT>\n",
    "Summary\n",
    "\n",
    "timestamp chapter \n",
    "timestamp chapter\n",
    "...\n",
    "timestamp chapter\n",
    "</OUTPUT>\n",
    "\"\"\""
   ]
  },
  {
   "cell_type": "code",
   "execution_count": 19,
   "id": "f35b941c",
   "metadata": {},
   "outputs": [],
   "source": [
    "def llm(\n",
    "    user_prompt: str,\n",
    "    *,\n",
    "    client: OpenAI,\n",
    "    instructions: Optional[str] = None,\n",
    "    model: str = \"gpt-4o-mini\",\n",
    ") -> str:\n",
    "    \"\"\"\n",
    "    Call the OpenAI Responses API with optional system instructions and return text.\n",
    "\n",
    "    Args:\n",
    "        user_prompt: The fully-assembled prompt to send as the user message.\n",
    "        client: An initialized `OpenAI()` client.\n",
    "        instructions: Optional system message to steer behavior (e.g., \"answer only\n",
    "            from context; say 'don't know' otherwise\").\n",
    "        model: OpenAI model name.\n",
    "\n",
    "    Returns:\n",
    "        The response text (assistant output) as a string.\n",
    "    \"\"\"\n",
    "    messages = []\n",
    "    if instructions:\n",
    "        messages.append({\"role\": \"system\", \"content\": instructions})\n",
    "    messages.append({\"role\": \"user\", \"content\": user_prompt})\n",
    "\n",
    "    resp = client.responses.create(model=model, input=messages)\n",
    "    return resp.output_text"
   ]
  },
  {
   "cell_type": "code",
   "execution_count": 22,
   "id": "2dbfc775",
   "metadata": {},
   "outputs": [
    {
     "name": "stdout",
     "output_type": "stream",
     "text": [
      "<OUTPUT>\n",
      "Summary\n",
      "\n",
      "The video serves as an introduction to the upcoming \"Machine Learning Zoom Camp,\" detailing course content, prerequisites, and the overall structure of the program. The instructor outlines that this is the fifth edition of the course, which starts on September 15th, and highlights updates to the course material while still maintaining core elements. Questions from the audience help guide the discussion, addressing job placements, course depth in specific areas like computer vision, and the necessary technical skills. The session emphasizes the engineering side of machine learning and clarifies the goal of providing participants with practical, project-based learning experiences.\n",
      "\n",
      "timestamp chapter\n",
      "0:00 introduction to the course\n",
      "0:39 course outline and updates\n",
      "1:30 job placement and skills\n",
      "3:41 prerequisites for the course\n",
      "8:10 focus on engineering vs. data science\n",
      "10:34 learning environments and tools\n",
      "12:29 course structure and assessments\n",
      "15:30 project expectations\n",
      "19:20 resources for learning\n",
      "21:18 career paths after the course\n",
      "24:45 course delivery and interaction\n",
      "30:40 questioning course material validity\n",
      "33:14 course workload and expectations\n",
      "36:01 final remarks and call to action\n",
      "</OUTPUT>\n"
     ]
    }
   ],
   "source": [
    "answer = llm(subtitles, client=client, instructions=instructions)\n",
    "print(answer)\n"
   ]
  },
  {
   "cell_type": "code",
   "execution_count": null,
   "id": "7c8ecf86",
   "metadata": {},
   "outputs": [],
   "source": [
    "def strip_matching_outer_html_tags(text: str) -> str:\n",
    "    match = re.match(r\"^\\s*<(\\w+)[^>]*>\\s*(.*?)\\s*</\\1>\\s*$\", text, re.DOTALL)\n",
    "    if match:\n",
    "        return match.group(2).strip()\n",
    "    return text.strip()\n",
    "\n",
    "answer = strip_matching_outer_html_tags(answer)\n"
   ]
  },
  {
   "cell_type": "code",
   "execution_count": 25,
   "id": "a80d6b32",
   "metadata": {},
   "outputs": [],
   "source": [
    "from pydantic import BaseModel\n",
    "\n",
    "class Chapter(BaseModel):\n",
    "    timestamp: str\n",
    "    title: str\n",
    "\n",
    "class YTSummaryResponse(BaseModel):\n",
    "    summary: str\n",
    "    chapters: list[Chapter]\n"
   ]
  },
  {
   "cell_type": "code",
   "execution_count": 27,
   "id": "8167daa6",
   "metadata": {},
   "outputs": [],
   "source": [
    "instructions = \"\"\"\n",
    "Summarize the transcript and describe the main purpose of the video\n",
    "and the main ideas. \n",
    "\n",
    "Also output chapters with time. Use usual sentence case, not Title Case for the chapter.\n",
    "\n",
    "More chapters is better than fewer chapters. Have a chapter at least every 3-5 minutes\n",
    "\"\"\".strip()\n",
    "\n",
    "messages = [\n",
    "    {\"role\": \"system\", \"content\": instructions}, \n",
    "    {\"role\": \"user\", \"content\": subtitles}\n",
    "]\n",
    "\n",
    "response = client.responses.parse(\n",
    "    model='gpt-4o-mini',\n",
    "    input=messages,\n",
    "    text_format=YTSummaryResponse\n",
    ")\n"
   ]
  },
  {
   "cell_type": "code",
   "execution_count": 28,
   "id": "4cd78769",
   "metadata": {},
   "outputs": [
    {
     "name": "stdout",
     "output_type": "stream",
     "text": [
      "The video discusses an upcoming course titled \"Machine Learning Zoom Camp.\" The course aims to provide a structured learning path for individuals interested in machine learning engineering. It covers various topics including fundamental machine learning concepts, deployment techniques, and some computer vision basics. Participants can expect to gain relevant skills that enhance their job marketability as they learn to handle real-world ML engineering tasks. The session also includes a Q&A segment addressing prerequisites, course structure, and expected outcomes for participants.\n",
      "\n",
      "0:00 Introduction to the course\n",
      "2:34 Course content and updates\n",
      "5:30 Job placement and prerequisites\n",
      "10:14 Using programming and command line\n",
      "15:38 Mathematical prerequisites explained\n",
      "19:31 Course format and certificate details\n",
      "25:23 Deadlines and project requirements\n",
      "32:31 Interactivity and learning management\n",
      "36:00 Course expectations and job readiness\n",
      "40:30 Final thoughts and Q&A follow-up\n"
     ]
    }
   ],
   "source": [
    "summary = response.output[0].content[0].parsed\n",
    "\n",
    "print(summary.summary)\n",
    "print()\n",
    "for c in summary.chapters:\n",
    "    print(c.timestamp, c.title)\n"
   ]
  },
  {
   "cell_type": "code",
   "execution_count": 29,
   "id": "ce716270",
   "metadata": {},
   "outputs": [],
   "source": [
    "def llm_structured(instructions, user_prompt, output_format, client, model=\"gpt-4o-mini\"):\n",
    "    messages = [\n",
    "        {\"role\": \"system\", \"content\": instructions},\n",
    "        {\"role\": \"user\", \"content\": user_prompt}\n",
    "    ]\n",
    "\n",
    "    response = client.responses.parse(\n",
    "        model=model,\n",
    "        input=messages,\n",
    "        text_format=output_format\n",
    "    )\n",
    "\n",
    "    return response.output[0].content[0].parsed\n",
    "    # or return response.output_parsed\n"
   ]
  },
  {
   "cell_type": "code",
   "execution_count": 31,
   "id": "01b57374",
   "metadata": {},
   "outputs": [],
   "source": [
    "summary = llm_structured(\n",
    "    instructions=instructions,\n",
    "    user_prompt=subtitles,\n",
    "    client=client,\n",
    "    output_format=YTSummaryResponse\n",
    ")\n"
   ]
  },
  {
   "cell_type": "code",
   "execution_count": 32,
   "id": "984c2c7f",
   "metadata": {},
   "outputs": [
    {
     "data": {
      "text/plain": [
       "YTSummaryResponse(summary='The video is an overview and Q&A session regarding the upcoming \"Machine Learning Zoom Camp\" course, scheduled to start on September 15. The instructor discusses key aspects of the course, including its structure, prerequisites, and expected outcomes for participants. The course aims to teach foundational machine learning skills with a strong focus on engineering aspects, particularly deployment. Questions are answered regarding job prospects, prerequisites, and the depth of coverage for various topics like deep learning and computer vision. Overall, it serves as an informative session for prospective students to understand the course details and content better.', chapters=[Chapter(timestamp='0:00', title='Introduction to the upcoming course'), Chapter(timestamp='2:30', title='Course structure and updates'), Chapter(timestamp='5:10', title='Job placement prospects after the course'), Chapter(timestamp='8:10', title='Prerequisites for the course'), Chapter(timestamp='11:50', title='Focus on machine learning vs. engineering'), Chapter(timestamp='14:30', title='Recommended companion book for the course'), Chapter(timestamp='17:40', title='Technical requirements and tools'), Chapter(timestamp='22:00', title='Career path and roles after completing the course'), Chapter(timestamp='26:20', title='Projects and certificates'), Chapter(timestamp='30:20', title='Learning environment and interaction'), Chapter(timestamp='34:00', title='Course commitment and deadlines'), Chapter(timestamp='36:40', title='Student engagement and community'), Chapter(timestamp='40:30', title='Final thoughts and signup information')])"
      ]
     },
     "execution_count": 32,
     "metadata": {},
     "output_type": "execute_result"
    }
   ],
   "source": [
    "summary"
   ]
  },
  {
   "cell_type": "code",
   "execution_count": null,
   "id": "752f9e47",
   "metadata": {},
   "outputs": [],
   "source": []
  },
  {
   "cell_type": "code",
   "execution_count": null,
   "id": "92a5cfb2",
   "metadata": {},
   "outputs": [],
   "source": []
  },
  {
   "cell_type": "code",
   "execution_count": null,
   "id": "70577b3d",
   "metadata": {},
   "outputs": [],
   "source": []
  },
  {
   "cell_type": "code",
   "execution_count": null,
   "id": "aaeb20d9",
   "metadata": {},
   "outputs": [
    {
     "data": {
      "text/plain": [
       "<minsearch.minsearch.Index at 0x7ac068448a40>"
      ]
     },
     "execution_count": 11,
     "metadata": {},
     "output_type": "execute_result"
    }
   ],
   "source": []
  },
  {
   "cell_type": "code",
   "execution_count": null,
   "id": "6bff8c72",
   "metadata": {},
   "outputs": [
    {
     "data": {
      "text/plain": [
       "'Based on the provided context, there is no information available regarding the installation of Kafka in Python.'"
      ]
     },
     "execution_count": 12,
     "metadata": {},
     "output_type": "execute_result"
    }
   ],
   "source": []
  },
  {
   "cell_type": "code",
   "execution_count": null,
   "id": "4e453968",
   "metadata": {},
   "outputs": [
    {
     "name": "stderr",
     "output_type": "stream",
     "text": [
      "100%|██████████| 948/948 [03:09<00:00,  5.01it/s]\n"
     ]
    }
   ],
   "source": []
  },
  {
   "cell_type": "markdown",
   "id": "c3c6157d",
   "metadata": {},
   "source": []
  },
  {
   "cell_type": "code",
   "execution_count": null,
   "id": "f5dda739",
   "metadata": {},
   "outputs": [],
   "source": []
  },
  {
   "cell_type": "code",
   "execution_count": null,
   "id": "db313365",
   "metadata": {},
   "outputs": [
    {
     "data": {
      "text/plain": [
       "['I just discovered the course, can I still join?',\n",
       " 'I just found out about this program. Can I still enroll?',\n",
       " 'you can join the course any time.']"
      ]
     },
     "execution_count": 26,
     "metadata": {},
     "output_type": "execute_result"
    }
   ],
   "source": []
  },
  {
   "cell_type": "code",
   "execution_count": null,
   "id": "a85d8d2d",
   "metadata": {},
   "outputs": [],
   "source": []
  },
  {
   "cell_type": "code",
   "execution_count": null,
   "id": "32c7f36a",
   "metadata": {},
   "outputs": [],
   "source": []
  },
  {
   "cell_type": "code",
   "execution_count": null,
   "id": "0ce2acdf",
   "metadata": {},
   "outputs": [
    {
     "data": {
      "text/plain": [
       "np.float32(0.99999976)"
      ]
     },
     "execution_count": 27,
     "metadata": {},
     "output_type": "execute_result"
    }
   ],
   "source": []
  },
  {
   "cell_type": "code",
   "execution_count": null,
   "id": "dff52f79",
   "metadata": {},
   "outputs": [
    {
     "data": {
      "text/plain": [
       "(948, 768)"
      ]
     },
     "execution_count": 28,
     "metadata": {},
     "output_type": "execute_result"
    }
   ],
   "source": []
  },
  {
   "cell_type": "code",
   "execution_count": null,
   "id": "938e2960",
   "metadata": {},
   "outputs": [],
   "source": []
  },
  {
   "cell_type": "code",
   "execution_count": null,
   "id": "7364c7e0",
   "metadata": {},
   "outputs": [],
   "source": []
  },
  {
   "cell_type": "code",
   "execution_count": null,
   "id": "9c051d25",
   "metadata": {},
   "outputs": [],
   "source": []
  },
  {
   "cell_type": "code",
   "execution_count": null,
   "id": "16707759",
   "metadata": {},
   "outputs": [],
   "source": []
  },
  {
   "cell_type": "code",
   "execution_count": null,
   "id": "1f593dc9",
   "metadata": {},
   "outputs": [],
   "source": []
  },
  {
   "cell_type": "code",
   "execution_count": null,
   "id": "de464eaa",
   "metadata": {},
   "outputs": [],
   "source": []
  },
  {
   "cell_type": "code",
   "execution_count": null,
   "id": "fb1e0e51",
   "metadata": {},
   "outputs": [],
   "source": []
  }
 ],
 "metadata": {
  "kernelspec": {
   "display_name": "ai-bootcamp (3.12.1)",
   "language": "python",
   "name": "python3"
  },
  "language_info": {
   "codemirror_mode": {
    "name": "ipython",
    "version": 3
   },
   "file_extension": ".py",
   "mimetype": "text/x-python",
   "name": "python",
   "nbconvert_exporter": "python",
   "pygments_lexer": "ipython3",
   "version": "3.12.1"
  }
 },
 "nbformat": 4,
 "nbformat_minor": 5
}
