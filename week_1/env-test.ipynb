{
 "cells": [
  {
   "cell_type": "code",
   "execution_count": 8,
   "id": "348c8c19-3e34-46ce-9311-3fe618c5b19b",
   "metadata": {},
   "outputs": [],
   "source": [
    "from openai import OpenAI\n"
   ]
  },
  {
   "cell_type": "code",
   "execution_count": 9,
   "id": "5ed514a5-deb4-4bcd-812d-51bdda380682",
   "metadata": {},
   "outputs": [],
   "source": [
    "client = OpenAI()"
   ]
  },
  {
   "cell_type": "code",
   "execution_count": 10,
   "id": "cda94553-34d8-4322-ad42-7267e775b28a",
   "metadata": {},
   "outputs": [],
   "source": [
    "instructions = \"\"\"\n",
    "You're an assistant that creates bedtime stories. Include emojis in your responses.\n",
    "Wask the user follow up questions and make sure the stories are personalized to the user.\"\"\"\n",
    "\n",
    "messages = [\n",
    "    {\"role\": \"system\", \"content\": instructions},\n",
    "    {\"role\": \"user\", \"content\": \"unicorn\"},\n",
    "]"
   ]
  },
  {
   "cell_type": "code",
   "execution_count": 11,
   "id": "e8c78650-99f6-4248-be09-92bf622fc278",
   "metadata": {},
   "outputs": [
    {
     "name": "stdout",
     "output_type": "stream",
     "text": [
      "What a magical choice! 🦄 Do you have a name for your unicorn, or would you like me to give it one? Also, where should our story take place—like a enchanted forest, a sparkling castle, or maybe somewhere else? 🌈✨\n"
     ]
    }
   ],
   "source": [
    "\n",
    "\n",
    "response = client.responses.create(\n",
    "    model=\"gpt-4o-mini\",\n",
    "    input=messages\n",
    ")\n",
    "\n",
    "print(response.output_text)\n"
   ]
  },
  {
   "cell_type": "code",
   "execution_count": 12,
   "id": "56c36d05-47d1-45ca-bdbe-8bee10d0d959",
   "metadata": {},
   "outputs": [],
   "source": [
    "#answer = \"yes, it should be able to fly, and it should be magical\"\n",
    "answer = \"1. green, 2. forest, 3. mega horn\"\n",
    "#messages.append(response.output[0])\n",
    "messages.append({\"role\": \"user\", \"content\": answer})"
   ]
  },
  {
   "cell_type": "code",
   "execution_count": 13,
   "id": "0e5b0efc",
   "metadata": {},
   "outputs": [
    {
     "data": {
      "text/plain": [
       "[{'role': 'system',\n",
       "  'content': \"\\nYou're an assistant that creates bedtime stories. Include emojis in your responses.\\nWask the user follow up questions and make sure the stories are personalized to the user.\"},\n",
       " {'role': 'user', 'content': 'unicorn'},\n",
       " {'role': 'user', 'content': '1. green, 2. forest, 3. mega horn'}]"
      ]
     },
     "execution_count": 13,
     "metadata": {},
     "output_type": "execute_result"
    }
   ],
   "source": [
    "messages"
   ]
  },
  {
   "cell_type": "code",
   "execution_count": 14,
   "id": "a31d73ae",
   "metadata": {},
   "outputs": [
    {
     "name": "stdout",
     "output_type": "stream",
     "text": [
      "What a magical combination! 🌲✨ Let’s create a bedtime story about a green unicorn with a mega horn living in a forest. \n",
      "\n",
      "**Title: The Emerald Horn of Forestwood 🌈🦄**\n",
      "\n",
      "Once upon a time, in the heart of a lush green forest called Forestwood, there resided a special unicorn named Lira. Unlike any other unicorn, Lira was a shimmering emerald green, glowing like the freshest leaves in spring. 🍃✨ \n",
      "\n",
      "Lira's most extraordinary feature was her mega horn—a spiraled horn that gleamed with enchanting colors, like a rainbow after a summer rain. 🌈 She often wondered how her horn could help her and the creatures of the forest.\n",
      "\n",
      "One day, while exploring the deeper parts of Forestwood, Lira discovered a group of woodland animals—squirrels, rabbits, and birds—looking worried. 🐿️🐇🐦\n",
      "\n",
      "“What's wrong, friends?” Lira asked, her voice soft and melodic.\n",
      "\n",
      "“The magical waterfall that gives us fresh water has stopped flowing! We don’t know how to fix it!” said a little rabbit, twitching his nose. 😢\n",
      "\n",
      "Lira's heart filled with compassion. “I will help you!” she declared, determined to use her mega horn for good. 🌟 \n",
      "\n",
      "As they ventured to the waterfall, Lira realized it was blocked by fallen branches and stones. With a deep breath and a twinkle in her eye, she raised her mega horn high into the sky. A dazzling light shone from it, and with a powerful pulse of magic, the stones and branches began to move! 🌪️💫\n",
      "\n",
      "With teamwork and Lira’s special glow, they cleared the blockage, and soon, the waterfall roared back to life, sparkling in the sunlight like a cascade of diamonds. 💎 The forest animals cheered and danced in joy, their hearts full of happiness. 🎉 \n",
      "\n",
      "From that day on, Lira became the hero of Forestwood. She used her mega horn to spread joy and help anyone in need, proving that no matter how different we are, we can always make the world a better place. 🌍❤️\n",
      "\n",
      "And so, under the sparkling stars, the green unicorn and her forest friends celebrated their friendship and the magic of togetherness.\n",
      "\n",
      "**The End. 🌌✨**\n",
      "\n",
      "What did you think? Would you like to add anything else to our story? Or do you have a favorite part? 😊\n"
     ]
    }
   ],
   "source": [
    "response = client.responses.create(\n",
    "    model=\"gpt-4o-mini\",\n",
    "    input=messages,\n",
    ")\n",
    "\n",
    "print(response.output_text)"
   ]
  },
  {
   "cell_type": "code",
   "execution_count": 62,
   "id": "8db36416",
   "metadata": {},
   "outputs": [],
   "source": [
    "answer = \"1. chief keef, 2. advenure, 3. do it for the culture\"\n",
    "#messages.append(response.output[0])\n",
    "messages.append({\"role\": \"user\", \"content\": answer})"
   ]
  },
  {
   "cell_type": "code",
   "execution_count": null,
   "id": "19d646bf",
   "metadata": {},
   "outputs": [
    {
     "name": "stdout",
     "output_type": "stream",
     "text": [
      "That sounds like an exciting concept! Are you thinking of a magical creature or an enchanted object? Maybe a flying carpet or a mythical creature like a phoenix? Let me know what you have in mind, and I can help you develop it further!\n"
     ]
    }
   ],
   "source": []
  },
  {
   "cell_type": "code",
   "execution_count": 26,
   "id": "722477b2",
   "metadata": {},
   "outputs": [
    {
     "name": "stdout",
     "output_type": "stream",
     "text": [
      "{\n",
      "  \"id\": \"resp_0b58e1b94fa4774d0068eac7bd32a08196b9a51664393f2886\",\n",
      "  \"created_at\": 1760217021.0,\n",
      "  \"error\": null,\n",
      "  \"incomplete_details\": null,\n",
      "  \"instructions\": null,\n",
      "  \"metadata\": {},\n",
      "  \"model\": \"gpt-4o-mini-2024-07-18\",\n",
      "  \"object\": \"response\",\n",
      "  \"output\": [\n",
      "    {\n",
      "      \"id\": \"msg_0b58e1b94fa4774d0068eac7be5f7081969f4931e7dfc9f01e\",\n",
      "      \"content\": [\n",
      "        {\n",
      "          \"annotations\": [],\n",
      "          \"text\": \"Why did JP bring a ladder to the bar?  \\n\\nBecause he heard the drinks were on the house! 🍻😂\",\n",
      "          \"type\": \"output_text\",\n",
      "          \"logprobs\": []\n",
      "        }\n",
      "      ],\n",
      "      \"role\": \"assistant\",\n",
      "      \"status\": \"completed\",\n",
      "      \"type\": \"message\"\n",
      "    }\n",
      "  ],\n",
      "  \"parallel_tool_calls\": true,\n",
      "  \"temperature\": 1.0,\n",
      "  \"tool_choice\": \"auto\",\n",
      "  \"tools\": [],\n",
      "  \"top_p\": 1.0,\n",
      "  \"background\": false,\n",
      "  \"conversation\": null,\n",
      "  \"max_output_tokens\": null,\n",
      "  \"max_tool_calls\": null,\n",
      "  \"previous_response_id\": null,\n",
      "  \"prompt\": null,\n",
      "  \"prompt_cache_key\": null,\n",
      "  \"reasoning\": {\n",
      "    \"effort\": null,\n",
      "    \"generate_summary\": null,\n",
      "    \"summary\": null\n",
      "  },\n",
      "  \"safety_identifier\": null,\n",
      "  \"service_tier\": \"default\",\n",
      "  \"status\": \"completed\",\n",
      "  \"text\": {\n",
      "    \"format\": {\n",
      "      \"type\": \"text\"\n",
      "    },\n",
      "    \"verbosity\": \"medium\"\n",
      "  },\n",
      "  \"top_logprobs\": 0,\n",
      "  \"truncation\": \"disabled\",\n",
      "  \"usage\": {\n",
      "    \"input_tokens\": 34,\n",
      "    \"input_tokens_details\": {\n",
      "      \"cached_tokens\": 0\n",
      "    },\n",
      "    \"output_tokens\": 25,\n",
      "    \"output_tokens_details\": {\n",
      "      \"reasoning_tokens\": 0\n",
      "    },\n",
      "    \"total_tokens\": 59\n",
      "  },\n",
      "  \"user\": null,\n",
      "  \"billing\": {\n",
      "    \"payer\": \"developer\"\n",
      "  },\n",
      "  \"store\": true\n",
      "}\n"
     ]
    }
   ],
   "source": [
    "print(response.model_dump_json(indent=2))"
   ]
  },
  {
   "cell_type": "code",
   "execution_count": null,
   "id": "bb46b08a",
   "metadata": {},
   "outputs": [
    {
     "data": {
      "text/plain": [
       "'Why did JP bring a ladder to the bar?  \\n\\nBecause he heard the drinks were on the house! 🍻😂'"
      ]
     },
     "execution_count": 30,
     "metadata": {},
     "output_type": "execute_result"
    }
   ],
   "source": [
    "response.output[0].content[0].text"
   ]
  },
  {
   "cell_type": "code",
   "execution_count": 35,
   "id": "a6335d4b",
   "metadata": {},
   "outputs": [
    {
     "name": "stdout",
     "output_type": "stream",
     "text": [
      "**Title: The Rainbow Unicorn's Adventure** 🌈🦄\n",
      "\n",
      "Once upon a time, in a magical land called Sparklewood, there lived a beautiful unicorn named Luna. She had a shimmering coat of white and a horn that sparkled with all the colors of the rainbow. 🌟\n",
      "\n",
      "One sunny morning, Luna woke up feeling a little adventurous. \"Today, I will find the legendary Rainbow Falls!\" she declared, her eyes twinkling with excitement. 💖\n",
      "\n",
      "As she trotted through the flowery fields, she met her best friend, Spark, a tiny dragon with glimmering scales. \"Where are you going, Luna?\" asked Spark, fluttering his wings. 🐉✨\n",
      "\n",
      "\"I'm off to find Rainbow Falls!\" said Luna. \"Would you like to come with me?\"\n",
      "\n",
      "\"Absolutely!\" Spark cheered, and together they set off on their adventure. 🌈\n",
      "\n",
      "They climbed over bumpy hills and crossed sparkling streams. Along the way, they played hide-and-seek with the fluffy clouds ☁️, dived into the cool waters of the brook 🌊, and chased rainbows that danced in the sky. 🌈🌟\n",
      "\n",
      "After a while, they arrived at a magnificent canyon. \"Look! The Rainbow Falls are just beyond that gorge!\" Luna exclaimed, her heart racing with excitement. But as they approached, they saw that the gorge was too wide to cross. 😟\n",
      "\n",
      "\"Don't worry, Luna!\" Spark said, flapping his wings. \"I have an idea!\" With a puff of his fiery breath, he created a bridge made of shimmering light. 💥✨\n",
      "\n",
      "\"Great thinking, Spark!\" Luna smiled, feeling brave. Together, they carefully walked across the glowing bridge, giggling with joy. 🎉\n",
      "\n",
      "When they finally reached the Rainbow Falls, the sight took their breath away! 🌊🌈 Water cascaded down like shimmering gems, creating a million colors in the air. Luna and Spark danced around the sparkling mist, feeling the joy of the moment. 🎶\n",
      "\n",
      "Luna said, \"This is the most beautiful place in the world!\" Spark nodded, mesmerized by the colors. They spent the whole day playing games, splashing in the water, and enjoying the beauty of the falls. 🌟💧\n",
      "\n",
      "As the sun began to set, painting the sky with pinks and oranges, Luna realized it was time to return home. \"We must come back to this magical place again!\" she said with a big smile. 🌅\n",
      "\n",
      "With hearts full of adventure, they made their way back, promising each other to always seek out new adventures together. And from that day on, Luna and Spark visited Rainbow Falls every chance they got, making memories that sparkled like the stars. ⭐️\n",
      "\n",
      "And so, Luna and Spark learned that with friendship, every adventure is magical! 🌈✨\n",
      "\n",
      "**The End** 🌟💤✨"
     ]
    }
   ],
   "source": [
    "stream = client.responses.create(\n",
    "    model=\"gpt-4o-mini\",\n",
    "    input=messages,\n",
    "    stream=True\n",
    ")\n",
    "\n",
    "for event in stream:\n",
    "    if hasattr(event, 'delta'):\n",
    "        print(event.delta, end='')"
   ]
  },
  {
   "cell_type": "code",
   "execution_count": 64,
   "id": "79631622",
   "metadata": {},
   "outputs": [
    {
     "name": "stdout",
     "output_type": "stream",
     "text": [
      "\u001b[2mResolved \u001b[1m121 packages\u001b[0m \u001b[2min 1ms\u001b[0m\u001b[0m\n",
      "\u001b[2mAudited \u001b[1m116 packages\u001b[0m \u001b[2min 2ms\u001b[0m\u001b[0m\n"
     ]
    }
   ],
   "source": [
    "!uv add toyaikit"
   ]
  },
  {
   "cell_type": "code",
   "execution_count": 15,
   "id": "57a7b397",
   "metadata": {},
   "outputs": [],
   "source": [
    "from toyaikit.llm import OpenAIClient\n",
    "from toyaikit.chat import IPythonChatInterface\n",
    "from toyaikit.chat.runners import OpenAIResponsesRunner"
   ]
  },
  {
   "cell_type": "code",
   "execution_count": 16,
   "id": "855ad5a5",
   "metadata": {},
   "outputs": [],
   "source": [
    "llm_client = OpenAIClient(\n",
    "    model=\"gpt-4o-mini\",\n",
    "    client=client\n",
    ")"
   ]
  },
  {
   "cell_type": "code",
   "execution_count": 17,
   "id": "972e0fb3",
   "metadata": {},
   "outputs": [],
   "source": [
    "runner = OpenAIResponsesRunner(\n",
    "    tools=None,\n",
    "    developer_prompt=instructions,\n",
    "    chat_interface=IPythonChatInterface(),\n",
    "    llm_client=llm_client,\n",
    ")"
   ]
  },
  {
   "cell_type": "code",
   "execution_count": 18,
   "id": "d22ad44f",
   "metadata": {},
   "outputs": [
    {
     "data": {
      "text/html": [
       "\n",
       "            <div>\n",
       "                <div><b>Assistant:</b></div>\n",
       "                <div><p>Hello there! 🌟 Are you ready for a bedtime story? Before we start, could you tell me a little bit about what you like?</p>\n",
       "<ul>\n",
       "<li>Do you have a favorite animal? 🦁</li>\n",
       "<li>Would you prefer a magical adventure or a cozy story? ✨</li>\n",
       "<li>How long would you like the story to be? 📖</li>\n",
       "</ul>\n",
       "<p>Let’s create something special together!</p>\n",
       "</div>\n",
       "            </div>\n",
       "        "
      ],
      "text/plain": [
       "<IPython.core.display.HTML object>"
      ]
     },
     "metadata": {},
     "output_type": "display_data"
    },
    {
     "name": "stdout",
     "output_type": "stream",
     "text": [
      "Chat ended.\n"
     ]
    }
   ],
   "source": [
    "runner.run();"
   ]
  },
  {
   "cell_type": "code",
   "execution_count": null,
   "id": "05d0d82f",
   "metadata": {},
   "outputs": [],
   "source": [
    "system_prompt = \"\"\"\n",
    "You're an assistant that can make jokes. ALways find out the name of the person to make the joke personalized.\n",
    "Once you knbow the name, make the joke about them.\n",
    "\"\"\".strip()\n",
    "\n",
    "messages = [\n",
    "    {\"role\": \"system\", \"content\": system_prompt},\n",
    "    {\"role\": \"user\", \"content\": \"tell me a joke\"},\n",
    "]\n"
   ]
  },
  {
   "cell_type": "code",
   "execution_count": null,
   "id": "15a954f6",
   "metadata": {},
   "outputs": [
    {
     "data": {
      "text/plain": [
       "\"You're an assistant that can make jokes. ALways find out the name of the person to make the joke personalized.\\nOnce you knbow the name, make the joke about them.\""
      ]
     },
     "execution_count": 20,
     "metadata": {},
     "output_type": "execute_result"
    }
   ],
   "source": []
  },
  {
   "cell_type": "code",
   "execution_count": null,
   "id": "e5be17e6",
   "metadata": {},
   "outputs": [],
   "source": []
  }
 ],
 "metadata": {
  "kernelspec": {
   "display_name": "ai-bootcamp (3.12.1)",
   "language": "python",
   "name": "python3"
  },
  "language_info": {
   "codemirror_mode": {
    "name": "ipython",
    "version": 3
   },
   "file_extension": ".py",
   "mimetype": "text/x-python",
   "name": "python",
   "nbconvert_exporter": "python",
   "pygments_lexer": "ipython3",
   "version": "3.12.1"
  }
 },
 "nbformat": 4,
 "nbformat_minor": 5
}
