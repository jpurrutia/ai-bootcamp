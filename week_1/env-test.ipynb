{
 "cells": [
  {
   "cell_type": "code",
   "execution_count": 9,
   "id": "348c8c19-3e34-46ce-9311-3fe618c5b19b",
   "metadata": {},
   "outputs": [],
   "source": [
    "from openai import OpenAI\n"
   ]
  },
  {
   "cell_type": "code",
   "execution_count": 10,
   "id": "5ed514a5-deb4-4bcd-812d-51bdda380682",
   "metadata": {},
   "outputs": [],
   "source": [
    "client = OpenAI()"
   ]
  },
  {
   "cell_type": "code",
   "execution_count": null,
   "id": "cda94553-34d8-4322-ad42-7267e775b28a",
   "metadata": {},
   "outputs": [],
   "source": []
  },
  {
   "cell_type": "code",
   "execution_count": 13,
   "id": "e8c78650-99f6-4248-be09-92bf622fc278",
   "metadata": {},
   "outputs": [
    {
     "name": "stdout",
     "output_type": "stream",
     "text": [
      "Once upon a time, in a shimmering forest where sunlight danced through the leaves, there lived a gentle unicorn named Luna. Luna had a coat as white as fresh snow and a mane that sparkled like the stars.\n",
      "\n",
      "Every evening, as the sun dipped below the horizon, Luna would wander to a hidden glade filled with vibrant flowers and twinkling fireflies. This magical place was her favorite spot, where the world felt peaceful and quiet.\n",
      "\n",
      "One night, as Luna pranced through the glade, she spotted a small, shivering rabbit curled up near a patch of daisies. The rabbit looked lost and frightened. With her warm, glowing horn, Luna approached gently. “Why are you so sad, little friend?” she asked softly.\n",
      "\n",
      "“I can’t find my way home,” the rabbit sniffled. “I’ve wandered too far.”\n",
      "\n",
      "Luna knelt down, and with a twinkle in her eye, she said, “Hop on my back! I’ll help you find your way.” The rabbit's ears perked up with hope, and he climbed atop the unicorn’s shimmering mane.\n",
      "\n",
      "With a flick of her tail and a soft gallop, Luna spread her wings, and together they soared above the treetops. The forest sparkled beneath them, and the stars began to twinkle in the evening sky.\n",
      "\n",
      "“Look!” Luna exclaimed, pointing her horn towards a small burrow nestled beneath a giant oak tree. “Is that where you live?”\n",
      "\n",
      "The rabbit's eyes sparkled with joy. “Yes! That’s my home!” He hopped with excitement, and Luna gently landed beside the burrow.\n",
      "\n",
      "With a grateful smile, the rabbit hopped off and turned to Luna. “Thank you so much! How can I ever repay you?”\n",
      "\n",
      "“Just remember to be brave, and help others find their way too,” Luna replied with a wink.\n",
      "\n",
      "With one final wave, the rabbit darted into his burrow. Luna spread her wings once more and flew back to her glade, her heart warm with happiness from knowing she had made a new friend.\n",
      "\n",
      "As she nestled down among the flowers, she gazed up at the twinkling stars, feeling safe and loved in her magical world. And from that night on, Luna kept the glade a secret, a place of dreams and adventure, where she could always find friends in need.\n",
      "\n",
      "And with that, sweet dreams awaited all who believed in magic. \n",
      "\n",
      "The end.\n"
     ]
    }
   ],
   "source": [
    "\n",
    "\n",
    "response = client.responses.create(\n",
    "    model=\"gpt-4o-mini\",\n",
    "    input=\"Write a short bedtime story about a unicorn.\"\n",
    ")\n",
    "\n",
    "print(response.output_text)\n"
   ]
  },
  {
   "cell_type": "raw",
   "id": "56c36d05-47d1-45ca-bdbe-8bee10d0d959",
   "metadata": {},
   "source": []
  }
 ],
 "metadata": {
  "kernelspec": {
   "display_name": "Python 3 (ipykernel)",
   "language": "python",
   "name": "python3"
  },
  "language_info": {
   "codemirror_mode": {
    "name": "ipython",
    "version": 3
   },
   "file_extension": ".py",
   "mimetype": "text/x-python",
   "name": "python",
   "nbconvert_exporter": "python",
   "pygments_lexer": "ipython3",
   "version": "3.12.1"
  }
 },
 "nbformat": 4,
 "nbformat_minor": 5
}
